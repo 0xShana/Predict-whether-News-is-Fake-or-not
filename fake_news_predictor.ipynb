{
 "cells": [
  {
   "cell_type": "markdown",
   "id": "c1262226",
   "metadata": {},
   "source": [
    "# Predict whether News is Fake or not"
   ]
  },
  {
   "cell_type": "markdown",
   "id": "6ad58334",
   "metadata": {},
   "source": [
    "## Develop a Machine Learning Model that can predict whether particular news is fake or not by applying several NLP (Natural Language Processing) Techniques.."
   ]
  },
  {
   "cell_type": "code",
   "execution_count": 1,
   "id": "2d0c025b",
   "metadata": {},
   "outputs": [],
   "source": [
    "import pandas as pd"
   ]
  },
  {
   "cell_type": "code",
   "execution_count": 2,
   "id": "c948a167",
   "metadata": {},
   "outputs": [],
   "source": [
    "df=pd.read_csv(\"/Users/shanajames/Downloads/work/repo_2/train.csv\")"
   ]
  },
  {
   "cell_type": "code",
   "execution_count": 3,
   "id": "de741bb3",
   "metadata": {},
   "outputs": [
    {
     "data": {
      "text/plain": [
       "(20800, 5)"
      ]
     },
     "execution_count": 3,
     "metadata": {},
     "output_type": "execute_result"
    }
   ],
   "source": [
    "df.head()\n",
    "df.shape"
   ]
  },
  {
   "cell_type": "code",
   "execution_count": 4,
   "id": "ed4a0a42",
   "metadata": {},
   "outputs": [
    {
     "data": {
      "text/plain": [
       "id           0\n",
       "title      558\n",
       "author    1957\n",
       "text        39\n",
       "label        0\n",
       "dtype: int64"
      ]
     },
     "execution_count": 4,
     "metadata": {},
     "output_type": "execute_result"
    }
   ],
   "source": [
    "df.isnull().sum()"
   ]
  },
  {
   "cell_type": "code",
   "execution_count": 5,
   "id": "68013176",
   "metadata": {},
   "outputs": [],
   "source": [
    "df.dropna(inplace=True)"
   ]
  },
  {
   "cell_type": "code",
   "execution_count": 6,
   "id": "22ea40bf",
   "metadata": {},
   "outputs": [
    {
     "data": {
      "text/plain": [
       "(18285, 5)"
      ]
     },
     "execution_count": 6,
     "metadata": {},
     "output_type": "execute_result"
    }
   ],
   "source": [
    "df.isnull().sum()\n",
    "df.shape"
   ]
  },
  {
   "cell_type": "code",
   "execution_count": 7,
   "id": "44b99251",
   "metadata": {},
   "outputs": [
    {
     "data": {
      "text/html": [
       "<div>\n",
       "<style scoped>\n",
       "    .dataframe tbody tr th:only-of-type {\n",
       "        vertical-align: middle;\n",
       "    }\n",
       "\n",
       "    .dataframe tbody tr th {\n",
       "        vertical-align: top;\n",
       "    }\n",
       "\n",
       "    .dataframe thead th {\n",
       "        text-align: right;\n",
       "    }\n",
       "</style>\n",
       "<table border=\"1\" class=\"dataframe\">\n",
       "  <thead>\n",
       "    <tr style=\"text-align: right;\">\n",
       "      <th></th>\n",
       "      <th>id</th>\n",
       "      <th>title</th>\n",
       "      <th>author</th>\n",
       "      <th>text</th>\n",
       "      <th>label</th>\n",
       "    </tr>\n",
       "  </thead>\n",
       "  <tbody>\n",
       "    <tr>\n",
       "      <th>0</th>\n",
       "      <td>0</td>\n",
       "      <td>House Dem Aide: We Didn’t Even See Comey’s Let...</td>\n",
       "      <td>Darrell Lucus</td>\n",
       "      <td>House Dem Aide: We Didn’t Even See Comey’s Let...</td>\n",
       "      <td>1</td>\n",
       "    </tr>\n",
       "    <tr>\n",
       "      <th>1</th>\n",
       "      <td>1</td>\n",
       "      <td>FLYNN: Hillary Clinton, Big Woman on Campus - ...</td>\n",
       "      <td>Daniel J. Flynn</td>\n",
       "      <td>Ever get the feeling your life circles the rou...</td>\n",
       "      <td>0</td>\n",
       "    </tr>\n",
       "    <tr>\n",
       "      <th>2</th>\n",
       "      <td>2</td>\n",
       "      <td>Why the Truth Might Get You Fired</td>\n",
       "      <td>Consortiumnews.com</td>\n",
       "      <td>Why the Truth Might Get You Fired October 29, ...</td>\n",
       "      <td>1</td>\n",
       "    </tr>\n",
       "    <tr>\n",
       "      <th>3</th>\n",
       "      <td>3</td>\n",
       "      <td>15 Civilians Killed In Single US Airstrike Hav...</td>\n",
       "      <td>Jessica Purkiss</td>\n",
       "      <td>Videos 15 Civilians Killed In Single US Airstr...</td>\n",
       "      <td>1</td>\n",
       "    </tr>\n",
       "    <tr>\n",
       "      <th>4</th>\n",
       "      <td>4</td>\n",
       "      <td>Iranian woman jailed for fictional unpublished...</td>\n",
       "      <td>Howard Portnoy</td>\n",
       "      <td>Print \\nAn Iranian woman has been sentenced to...</td>\n",
       "      <td>1</td>\n",
       "    </tr>\n",
       "  </tbody>\n",
       "</table>\n",
       "</div>"
      ],
      "text/plain": [
       "   id                                              title              author  \\\n",
       "0   0  House Dem Aide: We Didn’t Even See Comey’s Let...       Darrell Lucus   \n",
       "1   1  FLYNN: Hillary Clinton, Big Woman on Campus - ...     Daniel J. Flynn   \n",
       "2   2                  Why the Truth Might Get You Fired  Consortiumnews.com   \n",
       "3   3  15 Civilians Killed In Single US Airstrike Hav...     Jessica Purkiss   \n",
       "4   4  Iranian woman jailed for fictional unpublished...      Howard Portnoy   \n",
       "\n",
       "                                                text  label  \n",
       "0  House Dem Aide: We Didn’t Even See Comey’s Let...      1  \n",
       "1  Ever get the feeling your life circles the rou...      0  \n",
       "2  Why the Truth Might Get You Fired October 29, ...      1  \n",
       "3  Videos 15 Civilians Killed In Single US Airstr...      1  \n",
       "4  Print \\nAn Iranian woman has been sentenced to...      1  "
      ]
     },
     "execution_count": 7,
     "metadata": {},
     "output_type": "execute_result"
    }
   ],
   "source": [
    "df.head()"
   ]
  },
  {
   "cell_type": "code",
   "execution_count": 8,
   "id": "ccc117d3",
   "metadata": {},
   "outputs": [
    {
     "data": {
      "text/plain": [
       "0    10361\n",
       "1     7924\n",
       "Name: label, dtype: int64"
      ]
     },
     "execution_count": 8,
     "metadata": {},
     "output_type": "execute_result"
    }
   ],
   "source": [
    "df['label'].value_counts()"
   ]
  },
  {
   "cell_type": "markdown",
   "id": "bf2accff",
   "metadata": {},
   "source": [
    "### to check imbalance in data"
   ]
  },
  {
   "cell_type": "code",
   "execution_count": 9,
   "id": "aff21e82",
   "metadata": {},
   "outputs": [],
   "source": [
    "import seaborn as sns"
   ]
  },
  {
   "cell_type": "code",
   "execution_count": 10,
   "id": "90c5ab8c",
   "metadata": {},
   "outputs": [],
   "source": [
    "def create_distribution(feature):\n",
    "    return sns.countplot(df[feature])"
   ]
  },
  {
   "cell_type": "code",
   "execution_count": 11,
   "id": "fb5dc20f",
   "metadata": {},
   "outputs": [],
   "source": [
    "df.dtypes\n",
    "df['label']=df['label'].astype(str)"
   ]
  },
  {
   "cell_type": "code",
   "execution_count": 12,
   "id": "c9a9265e",
   "metadata": {},
   "outputs": [
    {
     "data": {
      "text/plain": [
       "id         int64\n",
       "title     object\n",
       "author    object\n",
       "text      object\n",
       "label     object\n",
       "dtype: object"
      ]
     },
     "execution_count": 12,
     "metadata": {},
     "output_type": "execute_result"
    }
   ],
   "source": [
    "df.dtypes"
   ]
  },
  {
   "cell_type": "code",
   "execution_count": 13,
   "id": "82ab77a3",
   "metadata": {},
   "outputs": [
    {
     "name": "stderr",
     "output_type": "stream",
     "text": [
      "/Users/shanajames/Documents/anaconda3/envs/TensorFlow2/lib/python3.7/site-packages/seaborn/_decorators.py:43: FutureWarning: Pass the following variable as a keyword arg: x. From version 0.12, the only valid positional argument will be `data`, and passing other arguments without an explicit keyword will result in an error or misinterpretation.\n",
      "  FutureWarning\n"
     ]
    },
    {
     "data": {
      "text/plain": [
       "<matplotlib.axes._subplots.AxesSubplot at 0x7ffdbc35d3d0>"
      ]
     },
     "execution_count": 13,
     "metadata": {},
     "output_type": "execute_result"
    },
    {
     "data": {
      "image/png": "[encoded data removed]",
      "text/plain": [
       "<Figure size 432x288 with 1 Axes>"
      ]
     },
     "metadata": {
      "needs_background": "light"
     },
     "output_type": "display_data"
    }
   ],
   "source": [
    "create_distribution('label')"
   ]
  },
  {
   "cell_type": "code",
   "execution_count": 14,
   "id": "b6bc7bb9",
   "metadata": {},
   "outputs": [
    {
     "data": {
      "text/html": [
       "<div>\n",
       "<style scoped>\n",
       "    .dataframe tbody tr th:only-of-type {\n",
       "        vertical-align: middle;\n",
       "    }\n",
       "\n",
       "    .dataframe tbody tr th {\n",
       "        vertical-align: top;\n",
       "    }\n",
       "\n",
       "    .dataframe thead th {\n",
       "        text-align: right;\n",
       "    }\n",
       "</style>\n",
       "<table border=\"1\" class=\"dataframe\">\n",
       "  <thead>\n",
       "    <tr style=\"text-align: right;\">\n",
       "      <th></th>\n",
       "      <th>id</th>\n",
       "      <th>title</th>\n",
       "      <th>author</th>\n",
       "      <th>text</th>\n",
       "      <th>label</th>\n",
       "    </tr>\n",
       "  </thead>\n",
       "  <tbody>\n",
       "    <tr>\n",
       "      <th>0</th>\n",
       "      <td>0</td>\n",
       "      <td>House Dem Aide: We Didn’t Even See Comey’s Let...</td>\n",
       "      <td>Darrell Lucus</td>\n",
       "      <td>House Dem Aide: We Didn’t Even See Comey’s Let...</td>\n",
       "      <td>1</td>\n",
       "    </tr>\n",
       "    <tr>\n",
       "      <th>1</th>\n",
       "      <td>1</td>\n",
       "      <td>FLYNN: Hillary Clinton, Big Woman on Campus - ...</td>\n",
       "      <td>Daniel J. Flynn</td>\n",
       "      <td>Ever get the feeling your life circles the rou...</td>\n",
       "      <td>0</td>\n",
       "    </tr>\n",
       "    <tr>\n",
       "      <th>2</th>\n",
       "      <td>2</td>\n",
       "      <td>Why the Truth Might Get You Fired</td>\n",
       "      <td>Consortiumnews.com</td>\n",
       "      <td>Why the Truth Might Get You Fired October 29, ...</td>\n",
       "      <td>1</td>\n",
       "    </tr>\n",
       "    <tr>\n",
       "      <th>3</th>\n",
       "      <td>3</td>\n",
       "      <td>15 Civilians Killed In Single US Airstrike Hav...</td>\n",
       "      <td>Jessica Purkiss</td>\n",
       "      <td>Videos 15 Civilians Killed In Single US Airstr...</td>\n",
       "      <td>1</td>\n",
       "    </tr>\n",
       "    <tr>\n",
       "      <th>4</th>\n",
       "      <td>4</td>\n",
       "      <td>Iranian woman jailed for fictional unpublished...</td>\n",
       "      <td>Howard Portnoy</td>\n",
       "      <td>Print \\nAn Iranian woman has been sentenced to...</td>\n",
       "      <td>1</td>\n",
       "    </tr>\n",
       "    <tr>\n",
       "      <th>5</th>\n",
       "      <td>5</td>\n",
       "      <td>Jackie Mason: Hollywood Would Love Trump if He...</td>\n",
       "      <td>Daniel Nussbaum</td>\n",
       "      <td>In these trying times, Jackie Mason is the Voi...</td>\n",
       "      <td>0</td>\n",
       "    </tr>\n",
       "    <tr>\n",
       "      <th>7</th>\n",
       "      <td>7</td>\n",
       "      <td>Benoît Hamon Wins French Socialist Party’s Pre...</td>\n",
       "      <td>Alissa J. Rubin</td>\n",
       "      <td>PARIS  —   France chose an idealistic, traditi...</td>\n",
       "      <td>0</td>\n",
       "    </tr>\n",
       "    <tr>\n",
       "      <th>9</th>\n",
       "      <td>9</td>\n",
       "      <td>A Back-Channel Plan for Ukraine and Russia, Co...</td>\n",
       "      <td>Megan Twohey and Scott Shane</td>\n",
       "      <td>A week before Michael T. Flynn resigned as nat...</td>\n",
       "      <td>0</td>\n",
       "    </tr>\n",
       "    <tr>\n",
       "      <th>10</th>\n",
       "      <td>10</td>\n",
       "      <td>Obama’s Organizing for Action Partners with So...</td>\n",
       "      <td>Aaron Klein</td>\n",
       "      <td>Organizing for Action, the activist group that...</td>\n",
       "      <td>0</td>\n",
       "    </tr>\n",
       "    <tr>\n",
       "      <th>11</th>\n",
       "      <td>11</td>\n",
       "      <td>BBC Comedy Sketch \"Real Housewives of ISIS\" Ca...</td>\n",
       "      <td>Chris Tomlinson</td>\n",
       "      <td>The BBC produced spoof on the “Real Housewives...</td>\n",
       "      <td>0</td>\n",
       "    </tr>\n",
       "    <tr>\n",
       "      <th>12</th>\n",
       "      <td>12</td>\n",
       "      <td>Russian Researchers Discover Secret Nazi Milit...</td>\n",
       "      <td>Amando Flavio</td>\n",
       "      <td>The mystery surrounding The Third Reich and Na...</td>\n",
       "      <td>1</td>\n",
       "    </tr>\n",
       "    <tr>\n",
       "      <th>13</th>\n",
       "      <td>13</td>\n",
       "      <td>US Officials See No Link Between Trump and Russia</td>\n",
       "      <td>Jason Ditz</td>\n",
       "      <td>Clinton Campaign Demands FBI Affirm Trump's Ru...</td>\n",
       "      <td>1</td>\n",
       "    </tr>\n",
       "    <tr>\n",
       "      <th>14</th>\n",
       "      <td>14</td>\n",
       "      <td>Re: Yes, There Are Paid Government Trolls On S...</td>\n",
       "      <td>AnotherAnnie</td>\n",
       "      <td>Yes, There Are Paid Government Trolls On Socia...</td>\n",
       "      <td>1</td>\n",
       "    </tr>\n",
       "    <tr>\n",
       "      <th>15</th>\n",
       "      <td>15</td>\n",
       "      <td>In Major League Soccer, Argentines Find a Home...</td>\n",
       "      <td>Jack Williams</td>\n",
       "      <td>Guillermo Barros Schelotto was not the first A...</td>\n",
       "      <td>0</td>\n",
       "    </tr>\n",
       "    <tr>\n",
       "      <th>16</th>\n",
       "      <td>16</td>\n",
       "      <td>Wells Fargo Chief Abruptly Steps Down - The Ne...</td>\n",
       "      <td>Michael Corkery and Stacy Cowley</td>\n",
       "      <td>The scandal engulfing Wells Fargo toppled its ...</td>\n",
       "      <td>0</td>\n",
       "    </tr>\n",
       "    <tr>\n",
       "      <th>17</th>\n",
       "      <td>17</td>\n",
       "      <td>Anonymous Donor Pays $2.5 Million To Release E...</td>\n",
       "      <td>Starkman</td>\n",
       "      <td>A Caddo Nation tribal leader has just been fre...</td>\n",
       "      <td>1</td>\n",
       "    </tr>\n",
       "    <tr>\n",
       "      <th>18</th>\n",
       "      <td>18</td>\n",
       "      <td>FBI Closes In On Hillary!</td>\n",
       "      <td>The Doc</td>\n",
       "      <td>FBI Closes In On Hillary! Posted on Home » Hea...</td>\n",
       "      <td>1</td>\n",
       "    </tr>\n",
       "    <tr>\n",
       "      <th>19</th>\n",
       "      <td>19</td>\n",
       "      <td>Chuck Todd: ’BuzzFeed Did Donald Trump a Polit...</td>\n",
       "      <td>Jeff Poor</td>\n",
       "      <td>Wednesday after   Donald Trump’s press confere...</td>\n",
       "      <td>0</td>\n",
       "    </tr>\n",
       "    <tr>\n",
       "      <th>21</th>\n",
       "      <td>21</td>\n",
       "      <td>Monica Lewinsky, Clinton Sex Scandal Set for ’...</td>\n",
       "      <td>Jerome Hudson</td>\n",
       "      <td>Screenwriter Ryan Murphy, who has produced the...</td>\n",
       "      <td>0</td>\n",
       "    </tr>\n",
       "    <tr>\n",
       "      <th>22</th>\n",
       "      <td>22</td>\n",
       "      <td>Rob Reiner: Trump Is ’Mentally Unstable’ - Bre...</td>\n",
       "      <td>Pam Key</td>\n",
       "      <td>Sunday on MSNBC’s “AM Joy,” actor and director...</td>\n",
       "      <td>0</td>\n",
       "    </tr>\n",
       "  </tbody>\n",
       "</table>\n",
       "</div>"
      ],
      "text/plain": [
       "    id                                              title  \\\n",
       "0    0  House Dem Aide: We Didn’t Even See Comey’s Let...   \n",
       "1    1  FLYNN: Hillary Clinton, Big Woman on Campus - ...   \n",
       "2    2                  Why the Truth Might Get You Fired   \n",
       "3    3  15 Civilians Killed In Single US Airstrike Hav...   \n",
       "4    4  Iranian woman jailed for fictional unpublished...   \n",
       "5    5  Jackie Mason: Hollywood Would Love Trump if He...   \n",
       "7    7  Benoît Hamon Wins French Socialist Party’s Pre...   \n",
       "9    9  A Back-Channel Plan for Ukraine and Russia, Co...   \n",
       "10  10  Obama’s Organizing for Action Partners with So...   \n",
       "11  11  BBC Comedy Sketch \"Real Housewives of ISIS\" Ca...   \n",
       "12  12  Russian Researchers Discover Secret Nazi Milit...   \n",
       "13  13  US Officials See No Link Between Trump and Russia   \n",
       "14  14  Re: Yes, There Are Paid Government Trolls On S...   \n",
       "15  15  In Major League Soccer, Argentines Find a Home...   \n",
       "16  16  Wells Fargo Chief Abruptly Steps Down - The Ne...   \n",
       "17  17  Anonymous Donor Pays $2.5 Million To Release E...   \n",
       "18  18                          FBI Closes In On Hillary!   \n",
       "19  19  Chuck Todd: ’BuzzFeed Did Donald Trump a Polit...   \n",
       "21  21  Monica Lewinsky, Clinton Sex Scandal Set for ’...   \n",
       "22  22  Rob Reiner: Trump Is ’Mentally Unstable’ - Bre...   \n",
       "\n",
       "                              author  \\\n",
       "0                      Darrell Lucus   \n",
       "1                    Daniel J. Flynn   \n",
       "2                 Consortiumnews.com   \n",
       "3                    Jessica Purkiss   \n",
       "4                     Howard Portnoy   \n",
       "5                    Daniel Nussbaum   \n",
       "7                    Alissa J. Rubin   \n",
       "9       Megan Twohey and Scott Shane   \n",
       "10                       Aaron Klein   \n",
       "11                   Chris Tomlinson   \n",
       "12                     Amando Flavio   \n",
       "13                        Jason Ditz   \n",
       "14                      AnotherAnnie   \n",
       "15                     Jack Williams   \n",
       "16  Michael Corkery and Stacy Cowley   \n",
       "17                          Starkman   \n",
       "18                           The Doc   \n",
       "19                         Jeff Poor   \n",
       "21                     Jerome Hudson   \n",
       "22                           Pam Key   \n",
       "\n",
       "                                                 text label  \n",
       "0   House Dem Aide: We Didn’t Even See Comey’s Let...     1  \n",
       "1   Ever get the feeling your life circles the rou...     0  \n",
       "2   Why the Truth Might Get You Fired October 29, ...     1  \n",
       "3   Videos 15 Civilians Killed In Single US Airstr...     1  \n",
       "4   Print \\nAn Iranian woman has been sentenced to...     1  \n",
       "5   In these trying times, Jackie Mason is the Voi...     0  \n",
       "7   PARIS  —   France chose an idealistic, traditi...     0  \n",
       "9   A week before Michael T. Flynn resigned as nat...     0  \n",
       "10  Organizing for Action, the activist group that...     0  \n",
       "11  The BBC produced spoof on the “Real Housewives...     0  \n",
       "12  The mystery surrounding The Third Reich and Na...     1  \n",
       "13  Clinton Campaign Demands FBI Affirm Trump's Ru...     1  \n",
       "14  Yes, There Are Paid Government Trolls On Socia...     1  \n",
       "15  Guillermo Barros Schelotto was not the first A...     0  \n",
       "16  The scandal engulfing Wells Fargo toppled its ...     0  \n",
       "17  A Caddo Nation tribal leader has just been fre...     1  \n",
       "18  FBI Closes In On Hillary! Posted on Home » Hea...     1  \n",
       "19  Wednesday after   Donald Trump’s press confere...     0  \n",
       "21  Screenwriter Ryan Murphy, who has produced the...     0  \n",
       "22  Sunday on MSNBC’s “AM Joy,” actor and director...     0  "
      ]
     },
     "execution_count": 14,
     "metadata": {},
     "output_type": "execute_result"
    }
   ],
   "source": [
    " df.head(20)"
   ]
  },
  {
   "cell_type": "code",
   "execution_count": 15,
   "id": "13b038c5",
   "metadata": {},
   "outputs": [],
   "source": [
    "# some missing datas are found,look at the index ,so we need to reset the index\n",
    "message=df.copy()"
   ]
  },
  {
   "cell_type": "code",
   "execution_count": 16,
   "id": "8267b0c7",
   "metadata": {},
   "outputs": [
    {
     "data": {
      "text/html": [
       "<div>\n",
       "<style scoped>\n",
       "    .dataframe tbody tr th:only-of-type {\n",
       "        vertical-align: middle;\n",
       "    }\n",
       "\n",
       "    .dataframe tbody tr th {\n",
       "        vertical-align: top;\n",
       "    }\n",
       "\n",
       "    .dataframe thead th {\n",
       "        text-align: right;\n",
       "    }\n",
       "</style>\n",
       "<table border=\"1\" class=\"dataframe\">\n",
       "  <thead>\n",
       "    <tr style=\"text-align: right;\">\n",
       "      <th></th>\n",
       "      <th>index</th>\n",
       "      <th>id</th>\n",
       "      <th>title</th>\n",
       "      <th>author</th>\n",
       "      <th>text</th>\n",
       "      <th>label</th>\n",
       "    </tr>\n",
       "  </thead>\n",
       "  <tbody>\n",
       "    <tr>\n",
       "      <th>0</th>\n",
       "      <td>0</td>\n",
       "      <td>0</td>\n",
       "      <td>House Dem Aide: We Didn’t Even See Comey’s Let...</td>\n",
       "      <td>Darrell Lucus</td>\n",
       "      <td>House Dem Aide: We Didn’t Even See Comey’s Let...</td>\n",
       "      <td>1</td>\n",
       "    </tr>\n",
       "    <tr>\n",
       "      <th>1</th>\n",
       "      <td>1</td>\n",
       "      <td>1</td>\n",
       "      <td>FLYNN: Hillary Clinton, Big Woman on Campus - ...</td>\n",
       "      <td>Daniel J. Flynn</td>\n",
       "      <td>Ever get the feeling your life circles the rou...</td>\n",
       "      <td>0</td>\n",
       "    </tr>\n",
       "    <tr>\n",
       "      <th>2</th>\n",
       "      <td>2</td>\n",
       "      <td>2</td>\n",
       "      <td>Why the Truth Might Get You Fired</td>\n",
       "      <td>Consortiumnews.com</td>\n",
       "      <td>Why the Truth Might Get You Fired October 29, ...</td>\n",
       "      <td>1</td>\n",
       "    </tr>\n",
       "    <tr>\n",
       "      <th>3</th>\n",
       "      <td>3</td>\n",
       "      <td>3</td>\n",
       "      <td>15 Civilians Killed In Single US Airstrike Hav...</td>\n",
       "      <td>Jessica Purkiss</td>\n",
       "      <td>Videos 15 Civilians Killed In Single US Airstr...</td>\n",
       "      <td>1</td>\n",
       "    </tr>\n",
       "    <tr>\n",
       "      <th>4</th>\n",
       "      <td>4</td>\n",
       "      <td>4</td>\n",
       "      <td>Iranian woman jailed for fictional unpublished...</td>\n",
       "      <td>Howard Portnoy</td>\n",
       "      <td>Print \\nAn Iranian woman has been sentenced to...</td>\n",
       "      <td>1</td>\n",
       "    </tr>\n",
       "    <tr>\n",
       "      <th>5</th>\n",
       "      <td>5</td>\n",
       "      <td>5</td>\n",
       "      <td>Jackie Mason: Hollywood Would Love Trump if He...</td>\n",
       "      <td>Daniel Nussbaum</td>\n",
       "      <td>In these trying times, Jackie Mason is the Voi...</td>\n",
       "      <td>0</td>\n",
       "    </tr>\n",
       "    <tr>\n",
       "      <th>6</th>\n",
       "      <td>7</td>\n",
       "      <td>7</td>\n",
       "      <td>Benoît Hamon Wins French Socialist Party’s Pre...</td>\n",
       "      <td>Alissa J. Rubin</td>\n",
       "      <td>PARIS  —   France chose an idealistic, traditi...</td>\n",
       "      <td>0</td>\n",
       "    </tr>\n",
       "    <tr>\n",
       "      <th>7</th>\n",
       "      <td>9</td>\n",
       "      <td>9</td>\n",
       "      <td>A Back-Channel Plan for Ukraine and Russia, Co...</td>\n",
       "      <td>Megan Twohey and Scott Shane</td>\n",
       "      <td>A week before Michael T. Flynn resigned as nat...</td>\n",
       "      <td>0</td>\n",
       "    </tr>\n",
       "    <tr>\n",
       "      <th>8</th>\n",
       "      <td>10</td>\n",
       "      <td>10</td>\n",
       "      <td>Obama’s Organizing for Action Partners with So...</td>\n",
       "      <td>Aaron Klein</td>\n",
       "      <td>Organizing for Action, the activist group that...</td>\n",
       "      <td>0</td>\n",
       "    </tr>\n",
       "    <tr>\n",
       "      <th>9</th>\n",
       "      <td>11</td>\n",
       "      <td>11</td>\n",
       "      <td>BBC Comedy Sketch \"Real Housewives of ISIS\" Ca...</td>\n",
       "      <td>Chris Tomlinson</td>\n",
       "      <td>The BBC produced spoof on the “Real Housewives...</td>\n",
       "      <td>0</td>\n",
       "    </tr>\n",
       "    <tr>\n",
       "      <th>10</th>\n",
       "      <td>12</td>\n",
       "      <td>12</td>\n",
       "      <td>Russian Researchers Discover Secret Nazi Milit...</td>\n",
       "      <td>Amando Flavio</td>\n",
       "      <td>The mystery surrounding The Third Reich and Na...</td>\n",
       "      <td>1</td>\n",
       "    </tr>\n",
       "    <tr>\n",
       "      <th>11</th>\n",
       "      <td>13</td>\n",
       "      <td>13</td>\n",
       "      <td>US Officials See No Link Between Trump and Russia</td>\n",
       "      <td>Jason Ditz</td>\n",
       "      <td>Clinton Campaign Demands FBI Affirm Trump's Ru...</td>\n",
       "      <td>1</td>\n",
       "    </tr>\n",
       "    <tr>\n",
       "      <th>12</th>\n",
       "      <td>14</td>\n",
       "      <td>14</td>\n",
       "      <td>Re: Yes, There Are Paid Government Trolls On S...</td>\n",
       "      <td>AnotherAnnie</td>\n",
       "      <td>Yes, There Are Paid Government Trolls On Socia...</td>\n",
       "      <td>1</td>\n",
       "    </tr>\n",
       "    <tr>\n",
       "      <th>13</th>\n",
       "      <td>15</td>\n",
       "      <td>15</td>\n",
       "      <td>In Major League Soccer, Argentines Find a Home...</td>\n",
       "      <td>Jack Williams</td>\n",
       "      <td>Guillermo Barros Schelotto was not the first A...</td>\n",
       "      <td>0</td>\n",
       "    </tr>\n",
       "    <tr>\n",
       "      <th>14</th>\n",
       "      <td>16</td>\n",
       "      <td>16</td>\n",
       "      <td>Wells Fargo Chief Abruptly Steps Down - The Ne...</td>\n",
       "      <td>Michael Corkery and Stacy Cowley</td>\n",
       "      <td>The scandal engulfing Wells Fargo toppled its ...</td>\n",
       "      <td>0</td>\n",
       "    </tr>\n",
       "    <tr>\n",
       "      <th>15</th>\n",
       "      <td>17</td>\n",
       "      <td>17</td>\n",
       "      <td>Anonymous Donor Pays $2.5 Million To Release E...</td>\n",
       "      <td>Starkman</td>\n",
       "      <td>A Caddo Nation tribal leader has just been fre...</td>\n",
       "      <td>1</td>\n",
       "    </tr>\n",
       "    <tr>\n",
       "      <th>16</th>\n",
       "      <td>18</td>\n",
       "      <td>18</td>\n",
       "      <td>FBI Closes In On Hillary!</td>\n",
       "      <td>The Doc</td>\n",
       "      <td>FBI Closes In On Hillary! Posted on Home » Hea...</td>\n",
       "      <td>1</td>\n",
       "    </tr>\n",
       "    <tr>\n",
       "      <th>17</th>\n",
       "      <td>19</td>\n",
       "      <td>19</td>\n",
       "      <td>Chuck Todd: ’BuzzFeed Did Donald Trump a Polit...</td>\n",
       "      <td>Jeff Poor</td>\n",
       "      <td>Wednesday after   Donald Trump’s press confere...</td>\n",
       "      <td>0</td>\n",
       "    </tr>\n",
       "    <tr>\n",
       "      <th>18</th>\n",
       "      <td>21</td>\n",
       "      <td>21</td>\n",
       "      <td>Monica Lewinsky, Clinton Sex Scandal Set for ’...</td>\n",
       "      <td>Jerome Hudson</td>\n",
       "      <td>Screenwriter Ryan Murphy, who has produced the...</td>\n",
       "      <td>0</td>\n",
       "    </tr>\n",
       "    <tr>\n",
       "      <th>19</th>\n",
       "      <td>22</td>\n",
       "      <td>22</td>\n",
       "      <td>Rob Reiner: Trump Is ’Mentally Unstable’ - Bre...</td>\n",
       "      <td>Pam Key</td>\n",
       "      <td>Sunday on MSNBC’s “AM Joy,” actor and director...</td>\n",
       "      <td>0</td>\n",
       "    </tr>\n",
       "  </tbody>\n",
       "</table>\n",
       "</div>"
      ],
      "text/plain": [
       "    index  id                                              title  \\\n",
       "0       0   0  House Dem Aide: We Didn’t Even See Comey’s Let...   \n",
       "1       1   1  FLYNN: Hillary Clinton, Big Woman on Campus - ...   \n",
       "2       2   2                  Why the Truth Might Get You Fired   \n",
       "3       3   3  15 Civilians Killed In Single US Airstrike Hav...   \n",
       "4       4   4  Iranian woman jailed for fictional unpublished...   \n",
       "5       5   5  Jackie Mason: Hollywood Would Love Trump if He...   \n",
       "6       7   7  Benoît Hamon Wins French Socialist Party’s Pre...   \n",
       "7       9   9  A Back-Channel Plan for Ukraine and Russia, Co...   \n",
       "8      10  10  Obama’s Organizing for Action Partners with So...   \n",
       "9      11  11  BBC Comedy Sketch \"Real Housewives of ISIS\" Ca...   \n",
       "10     12  12  Russian Researchers Discover Secret Nazi Milit...   \n",
       "11     13  13  US Officials See No Link Between Trump and Russia   \n",
       "12     14  14  Re: Yes, There Are Paid Government Trolls On S...   \n",
       "13     15  15  In Major League Soccer, Argentines Find a Home...   \n",
       "14     16  16  Wells Fargo Chief Abruptly Steps Down - The Ne...   \n",
       "15     17  17  Anonymous Donor Pays $2.5 Million To Release E...   \n",
       "16     18  18                          FBI Closes In On Hillary!   \n",
       "17     19  19  Chuck Todd: ’BuzzFeed Did Donald Trump a Polit...   \n",
       "18     21  21  Monica Lewinsky, Clinton Sex Scandal Set for ’...   \n",
       "19     22  22  Rob Reiner: Trump Is ’Mentally Unstable’ - Bre...   \n",
       "\n",
       "                              author  \\\n",
       "0                      Darrell Lucus   \n",
       "1                    Daniel J. Flynn   \n",
       "2                 Consortiumnews.com   \n",
       "3                    Jessica Purkiss   \n",
       "4                     Howard Portnoy   \n",
       "5                    Daniel Nussbaum   \n",
       "6                    Alissa J. Rubin   \n",
       "7       Megan Twohey and Scott Shane   \n",
       "8                        Aaron Klein   \n",
       "9                    Chris Tomlinson   \n",
       "10                     Amando Flavio   \n",
       "11                        Jason Ditz   \n",
       "12                      AnotherAnnie   \n",
       "13                     Jack Williams   \n",
       "14  Michael Corkery and Stacy Cowley   \n",
       "15                          Starkman   \n",
       "16                           The Doc   \n",
       "17                         Jeff Poor   \n",
       "18                     Jerome Hudson   \n",
       "19                           Pam Key   \n",
       "\n",
       "                                                 text label  \n",
       "0   House Dem Aide: We Didn’t Even See Comey’s Let...     1  \n",
       "1   Ever get the feeling your life circles the rou...     0  \n",
       "2   Why the Truth Might Get You Fired October 29, ...     1  \n",
       "3   Videos 15 Civilians Killed In Single US Airstr...     1  \n",
       "4   Print \\nAn Iranian woman has been sentenced to...     1  \n",
       "5   In these trying times, Jackie Mason is the Voi...     0  \n",
       "6   PARIS  —   France chose an idealistic, traditi...     0  \n",
       "7   A week before Michael T. Flynn resigned as nat...     0  \n",
       "8   Organizing for Action, the activist group that...     0  \n",
       "9   The BBC produced spoof on the “Real Housewives...     0  \n",
       "10  The mystery surrounding The Third Reich and Na...     1  \n",
       "11  Clinton Campaign Demands FBI Affirm Trump's Ru...     1  \n",
       "12  Yes, There Are Paid Government Trolls On Socia...     1  \n",
       "13  Guillermo Barros Schelotto was not the first A...     0  \n",
       "14  The scandal engulfing Wells Fargo toppled its ...     0  \n",
       "15  A Caddo Nation tribal leader has just been fre...     1  \n",
       "16  FBI Closes In On Hillary! Posted on Home » Hea...     1  \n",
       "17  Wednesday after   Donald Trump’s press confere...     0  \n",
       "18  Screenwriter Ryan Murphy, who has produced the...     0  \n",
       "19  Sunday on MSNBC’s “AM Joy,” actor and director...     0  "
      ]
     },
     "execution_count": 16,
     "metadata": {},
     "output_type": "execute_result"
    }
   ],
   "source": [
    "message.reset_index(inplace=True)\n",
    "message.head(20)"
   ]
  },
  {
   "cell_type": "code",
   "execution_count": 17,
   "id": "955ceb02",
   "metadata": {},
   "outputs": [],
   "source": [
    " \n",
    "message.drop(columns='index',inplace=True)"
   ]
  },
  {
   "cell_type": "code",
   "execution_count": 18,
   "id": "ac0ac72a",
   "metadata": {},
   "outputs": [
    {
     "data": {
      "text/html": [
       "<div>\n",
       "<style scoped>\n",
       "    .dataframe tbody tr th:only-of-type {\n",
       "        vertical-align: middle;\n",
       "    }\n",
       "\n",
       "    .dataframe tbody tr th {\n",
       "        vertical-align: top;\n",
       "    }\n",
       "\n",
       "    .dataframe thead th {\n",
       "        text-align: right;\n",
       "    }\n",
       "</style>\n",
       "<table border=\"1\" class=\"dataframe\">\n",
       "  <thead>\n",
       "    <tr style=\"text-align: right;\">\n",
       "      <th></th>\n",
       "      <th>id</th>\n",
       "      <th>title</th>\n",
       "      <th>author</th>\n",
       "      <th>text</th>\n",
       "      <th>label</th>\n",
       "    </tr>\n",
       "  </thead>\n",
       "  <tbody>\n",
       "    <tr>\n",
       "      <th>0</th>\n",
       "      <td>0</td>\n",
       "      <td>House Dem Aide: We Didn’t Even See Comey’s Let...</td>\n",
       "      <td>Darrell Lucus</td>\n",
       "      <td>House Dem Aide: We Didn’t Even See Comey’s Let...</td>\n",
       "      <td>1</td>\n",
       "    </tr>\n",
       "    <tr>\n",
       "      <th>1</th>\n",
       "      <td>1</td>\n",
       "      <td>FLYNN: Hillary Clinton, Big Woman on Campus - ...</td>\n",
       "      <td>Daniel J. Flynn</td>\n",
       "      <td>Ever get the feeling your life circles the rou...</td>\n",
       "      <td>0</td>\n",
       "    </tr>\n",
       "    <tr>\n",
       "      <th>2</th>\n",
       "      <td>2</td>\n",
       "      <td>Why the Truth Might Get You Fired</td>\n",
       "      <td>Consortiumnews.com</td>\n",
       "      <td>Why the Truth Might Get You Fired October 29, ...</td>\n",
       "      <td>1</td>\n",
       "    </tr>\n",
       "    <tr>\n",
       "      <th>3</th>\n",
       "      <td>3</td>\n",
       "      <td>15 Civilians Killed In Single US Airstrike Hav...</td>\n",
       "      <td>Jessica Purkiss</td>\n",
       "      <td>Videos 15 Civilians Killed In Single US Airstr...</td>\n",
       "      <td>1</td>\n",
       "    </tr>\n",
       "    <tr>\n",
       "      <th>4</th>\n",
       "      <td>4</td>\n",
       "      <td>Iranian woman jailed for fictional unpublished...</td>\n",
       "      <td>Howard Portnoy</td>\n",
       "      <td>Print \\nAn Iranian woman has been sentenced to...</td>\n",
       "      <td>1</td>\n",
       "    </tr>\n",
       "    <tr>\n",
       "      <th>5</th>\n",
       "      <td>5</td>\n",
       "      <td>Jackie Mason: Hollywood Would Love Trump if He...</td>\n",
       "      <td>Daniel Nussbaum</td>\n",
       "      <td>In these trying times, Jackie Mason is the Voi...</td>\n",
       "      <td>0</td>\n",
       "    </tr>\n",
       "    <tr>\n",
       "      <th>6</th>\n",
       "      <td>7</td>\n",
       "      <td>Benoît Hamon Wins French Socialist Party’s Pre...</td>\n",
       "      <td>Alissa J. Rubin</td>\n",
       "      <td>PARIS  —   France chose an idealistic, traditi...</td>\n",
       "      <td>0</td>\n",
       "    </tr>\n",
       "    <tr>\n",
       "      <th>7</th>\n",
       "      <td>9</td>\n",
       "      <td>A Back-Channel Plan for Ukraine and Russia, Co...</td>\n",
       "      <td>Megan Twohey and Scott Shane</td>\n",
       "      <td>A week before Michael T. Flynn resigned as nat...</td>\n",
       "      <td>0</td>\n",
       "    </tr>\n",
       "    <tr>\n",
       "      <th>8</th>\n",
       "      <td>10</td>\n",
       "      <td>Obama’s Organizing for Action Partners with So...</td>\n",
       "      <td>Aaron Klein</td>\n",
       "      <td>Organizing for Action, the activist group that...</td>\n",
       "      <td>0</td>\n",
       "    </tr>\n",
       "    <tr>\n",
       "      <th>9</th>\n",
       "      <td>11</td>\n",
       "      <td>BBC Comedy Sketch \"Real Housewives of ISIS\" Ca...</td>\n",
       "      <td>Chris Tomlinson</td>\n",
       "      <td>The BBC produced spoof on the “Real Housewives...</td>\n",
       "      <td>0</td>\n",
       "    </tr>\n",
       "    <tr>\n",
       "      <th>10</th>\n",
       "      <td>12</td>\n",
       "      <td>Russian Researchers Discover Secret Nazi Milit...</td>\n",
       "      <td>Amando Flavio</td>\n",
       "      <td>The mystery surrounding The Third Reich and Na...</td>\n",
       "      <td>1</td>\n",
       "    </tr>\n",
       "    <tr>\n",
       "      <th>11</th>\n",
       "      <td>13</td>\n",
       "      <td>US Officials See No Link Between Trump and Russia</td>\n",
       "      <td>Jason Ditz</td>\n",
       "      <td>Clinton Campaign Demands FBI Affirm Trump's Ru...</td>\n",
       "      <td>1</td>\n",
       "    </tr>\n",
       "    <tr>\n",
       "      <th>12</th>\n",
       "      <td>14</td>\n",
       "      <td>Re: Yes, There Are Paid Government Trolls On S...</td>\n",
       "      <td>AnotherAnnie</td>\n",
       "      <td>Yes, There Are Paid Government Trolls On Socia...</td>\n",
       "      <td>1</td>\n",
       "    </tr>\n",
       "    <tr>\n",
       "      <th>13</th>\n",
       "      <td>15</td>\n",
       "      <td>In Major League Soccer, Argentines Find a Home...</td>\n",
       "      <td>Jack Williams</td>\n",
       "      <td>Guillermo Barros Schelotto was not the first A...</td>\n",
       "      <td>0</td>\n",
       "    </tr>\n",
       "    <tr>\n",
       "      <th>14</th>\n",
       "      <td>16</td>\n",
       "      <td>Wells Fargo Chief Abruptly Steps Down - The Ne...</td>\n",
       "      <td>Michael Corkery and Stacy Cowley</td>\n",
       "      <td>The scandal engulfing Wells Fargo toppled its ...</td>\n",
       "      <td>0</td>\n",
       "    </tr>\n",
       "    <tr>\n",
       "      <th>15</th>\n",
       "      <td>17</td>\n",
       "      <td>Anonymous Donor Pays $2.5 Million To Release E...</td>\n",
       "      <td>Starkman</td>\n",
       "      <td>A Caddo Nation tribal leader has just been fre...</td>\n",
       "      <td>1</td>\n",
       "    </tr>\n",
       "    <tr>\n",
       "      <th>16</th>\n",
       "      <td>18</td>\n",
       "      <td>FBI Closes In On Hillary!</td>\n",
       "      <td>The Doc</td>\n",
       "      <td>FBI Closes In On Hillary! Posted on Home » Hea...</td>\n",
       "      <td>1</td>\n",
       "    </tr>\n",
       "    <tr>\n",
       "      <th>17</th>\n",
       "      <td>19</td>\n",
       "      <td>Chuck Todd: ’BuzzFeed Did Donald Trump a Polit...</td>\n",
       "      <td>Jeff Poor</td>\n",
       "      <td>Wednesday after   Donald Trump’s press confere...</td>\n",
       "      <td>0</td>\n",
       "    </tr>\n",
       "    <tr>\n",
       "      <th>18</th>\n",
       "      <td>21</td>\n",
       "      <td>Monica Lewinsky, Clinton Sex Scandal Set for ’...</td>\n",
       "      <td>Jerome Hudson</td>\n",
       "      <td>Screenwriter Ryan Murphy, who has produced the...</td>\n",
       "      <td>0</td>\n",
       "    </tr>\n",
       "    <tr>\n",
       "      <th>19</th>\n",
       "      <td>22</td>\n",
       "      <td>Rob Reiner: Trump Is ’Mentally Unstable’ - Bre...</td>\n",
       "      <td>Pam Key</td>\n",
       "      <td>Sunday on MSNBC’s “AM Joy,” actor and director...</td>\n",
       "      <td>0</td>\n",
       "    </tr>\n",
       "  </tbody>\n",
       "</table>\n",
       "</div>"
      ],
      "text/plain": [
       "    id                                              title  \\\n",
       "0    0  House Dem Aide: We Didn’t Even See Comey’s Let...   \n",
       "1    1  FLYNN: Hillary Clinton, Big Woman on Campus - ...   \n",
       "2    2                  Why the Truth Might Get You Fired   \n",
       "3    3  15 Civilians Killed In Single US Airstrike Hav...   \n",
       "4    4  Iranian woman jailed for fictional unpublished...   \n",
       "5    5  Jackie Mason: Hollywood Would Love Trump if He...   \n",
       "6    7  Benoît Hamon Wins French Socialist Party’s Pre...   \n",
       "7    9  A Back-Channel Plan for Ukraine and Russia, Co...   \n",
       "8   10  Obama’s Organizing for Action Partners with So...   \n",
       "9   11  BBC Comedy Sketch \"Real Housewives of ISIS\" Ca...   \n",
       "10  12  Russian Researchers Discover Secret Nazi Milit...   \n",
       "11  13  US Officials See No Link Between Trump and Russia   \n",
       "12  14  Re: Yes, There Are Paid Government Trolls On S...   \n",
       "13  15  In Major League Soccer, Argentines Find a Home...   \n",
       "14  16  Wells Fargo Chief Abruptly Steps Down - The Ne...   \n",
       "15  17  Anonymous Donor Pays $2.5 Million To Release E...   \n",
       "16  18                          FBI Closes In On Hillary!   \n",
       "17  19  Chuck Todd: ’BuzzFeed Did Donald Trump a Polit...   \n",
       "18  21  Monica Lewinsky, Clinton Sex Scandal Set for ’...   \n",
       "19  22  Rob Reiner: Trump Is ’Mentally Unstable’ - Bre...   \n",
       "\n",
       "                              author  \\\n",
       "0                      Darrell Lucus   \n",
       "1                    Daniel J. Flynn   \n",
       "2                 Consortiumnews.com   \n",
       "3                    Jessica Purkiss   \n",
       "4                     Howard Portnoy   \n",
       "5                    Daniel Nussbaum   \n",
       "6                    Alissa J. Rubin   \n",
       "7       Megan Twohey and Scott Shane   \n",
       "8                        Aaron Klein   \n",
       "9                    Chris Tomlinson   \n",
       "10                     Amando Flavio   \n",
       "11                        Jason Ditz   \n",
       "12                      AnotherAnnie   \n",
       "13                     Jack Williams   \n",
       "14  Michael Corkery and Stacy Cowley   \n",
       "15                          Starkman   \n",
       "16                           The Doc   \n",
       "17                         Jeff Poor   \n",
       "18                     Jerome Hudson   \n",
       "19                           Pam Key   \n",
       "\n",
       "                                                 text label  \n",
       "0   House Dem Aide: We Didn’t Even See Comey’s Let...     1  \n",
       "1   Ever get the feeling your life circles the rou...     0  \n",
       "2   Why the Truth Might Get You Fired October 29, ...     1  \n",
       "3   Videos 15 Civilians Killed In Single US Airstr...     1  \n",
       "4   Print \\nAn Iranian woman has been sentenced to...     1  \n",
       "5   In these trying times, Jackie Mason is the Voi...     0  \n",
       "6   PARIS  —   France chose an idealistic, traditi...     0  \n",
       "7   A week before Michael T. Flynn resigned as nat...     0  \n",
       "8   Organizing for Action, the activist group that...     0  \n",
       "9   The BBC produced spoof on the “Real Housewives...     0  \n",
       "10  The mystery surrounding The Third Reich and Na...     1  \n",
       "11  Clinton Campaign Demands FBI Affirm Trump's Ru...     1  \n",
       "12  Yes, There Are Paid Government Trolls On Socia...     1  \n",
       "13  Guillermo Barros Schelotto was not the first A...     0  \n",
       "14  The scandal engulfing Wells Fargo toppled its ...     0  \n",
       "15  A Caddo Nation tribal leader has just been fre...     1  \n",
       "16  FBI Closes In On Hillary! Posted on Home » Hea...     1  \n",
       "17  Wednesday after   Donald Trump’s press confere...     0  \n",
       "18  Screenwriter Ryan Murphy, who has produced the...     0  \n",
       "19  Sunday on MSNBC’s “AM Joy,” actor and director...     0  "
      ]
     },
     "execution_count": 18,
     "metadata": {},
     "output_type": "execute_result"
    }
   ],
   "source": [
    "message.head(20)"
   ]
  },
  {
   "cell_type": "markdown",
   "id": "025d09cf",
   "metadata": {},
   "source": [
    "## Pre process title feature"
   ]
  },
  {
   "cell_type": "code",
   "execution_count": 19,
   "id": "92a84347",
   "metadata": {},
   "outputs": [],
   "source": [
    "message.head()\n",
    "m=message['title'][0]"
   ]
  },
  {
   "cell_type": "code",
   "execution_count": 20,
   "id": "31f7ed1b",
   "metadata": {},
   "outputs": [],
   "source": [
    "# to remove the special character \n",
    "import re"
   ]
  },
  {
   "cell_type": "code",
   "execution_count": 21,
   "id": "0e218009",
   "metadata": {},
   "outputs": [],
   "source": [
    "m=re.sub('[^a-zA-z]',' ',m)\n"
   ]
  },
  {
   "cell_type": "code",
   "execution_count": 22,
   "id": "8f379984",
   "metadata": {},
   "outputs": [],
   "source": [
    "m=m.lower()"
   ]
  },
  {
   "cell_type": "code",
   "execution_count": 23,
   "id": "2d89a273",
   "metadata": {},
   "outputs": [],
   "source": [
    "#to convert this statement to numbers we have to use NLP---vector representaion"
   ]
  },
  {
   "cell_type": "code",
   "execution_count": 24,
   "id": "87613c8e",
   "metadata": {},
   "outputs": [],
   "source": [
    "list=m.split(' ')"
   ]
  },
  {
   "cell_type": "code",
   "execution_count": 25,
   "id": "eee30865",
   "metadata": {},
   "outputs": [
    {
     "data": {
      "text/plain": [
       "['house',\n",
       " 'dem',\n",
       " 'aide',\n",
       " '',\n",
       " 'we',\n",
       " 'didn',\n",
       " 't',\n",
       " 'even',\n",
       " 'see',\n",
       " 'comey',\n",
       " 's',\n",
       " 'letter',\n",
       " 'until',\n",
       " 'jason',\n",
       " 'chaffetz',\n",
       " 'tweeted',\n",
       " 'it']"
      ]
     },
     "execution_count": 25,
     "metadata": {},
     "output_type": "execute_result"
    }
   ],
   "source": [
    "list"
   ]
  },
  {
   "cell_type": "code",
   "execution_count": 26,
   "id": "3f6ee773",
   "metadata": {},
   "outputs": [],
   "source": [
    "import nltk\n",
    "from nltk.stem.porter import PorterStemmer\n",
    "from nltk.corpus import stopwords"
   ]
  },
  {
   "cell_type": "code",
   "execution_count": 27,
   "id": "bd591f0f",
   "metadata": {},
   "outputs": [],
   "source": [
    "ps=PorterStemmer()"
   ]
  },
  {
   "cell_type": "code",
   "execution_count": 28,
   "id": "003cfaba",
   "metadata": {},
   "outputs": [],
   "source": [
    "review=[ps.stem(word) for word in list if word not in set(stopwords.words('english'))]"
   ]
  },
  {
   "cell_type": "code",
   "execution_count": 29,
   "id": "7125abd0",
   "metadata": {},
   "outputs": [
    {
     "data": {
      "text/plain": [
       "'hous dem aid  even see comey letter jason chaffetz tweet'"
      ]
     },
     "execution_count": 29,
     "metadata": {},
     "output_type": "execute_result"
    }
   ],
   "source": [
    "' '.join(review)"
   ]
  },
  {
   "cell_type": "code",
   "execution_count": 54,
   "id": "db7f38b7",
   "metadata": {},
   "outputs": [],
   "source": [
    "corpus=[]\n",
    "sentences=[]\n",
    "for i in range(0,len(message)):\n",
    "    review=re.sub('[^a-zA-Z]',' ', message['title'][i])\n",
    "    review=review.lower()\n",
    "    list=review.split()\n",
    "    review=[ps.stem(word) for word in list if word not in set(stopwords.words('english'))]\n",
    "    sentences=' '.join(review)\n",
    "    corpus.append(sentences)"
   ]
  },
  {
   "cell_type": "code",
   "execution_count": 56,
   "id": "fa9faf78",
   "metadata": {},
   "outputs": [
    {
     "data": {
      "text/plain": [
       "18285"
      ]
     },
     "execution_count": 56,
     "metadata": {},
     "output_type": "execute_result"
    }
   ],
   "source": [
    "corpus[0]\n",
    "len(corpus)\n",
    "# corpus"
   ]
  },
  {
   "cell_type": "markdown",
   "id": "e4714596",
   "metadata": {},
   "source": [
    "## Apply bag of words on data"
   ]
  },
  {
   "cell_type": "code",
   "execution_count": 57,
   "id": "67f63f9e",
   "metadata": {},
   "outputs": [],
   "source": [
    "from sklearn.feature_extraction.text import CountVectorizer\n",
    "cv=CountVectorizer(max_features=5000,ngram_range=(1,3))"
   ]
  },
  {
   "cell_type": "code",
   "execution_count": 58,
   "id": "f12a269c",
   "metadata": {},
   "outputs": [],
   "source": [
    "X=cv.fit_transform(corpus).toarray()"
   ]
  },
  {
   "cell_type": "code",
   "execution_count": 59,
   "id": "31b8d58d",
   "metadata": {},
   "outputs": [
    {
     "data": {
      "text/plain": [
       "array([[0, 0, 0, ..., 0, 0, 0],\n",
       "       [0, 0, 0, ..., 0, 0, 0],\n",
       "       [0, 0, 0, ..., 0, 0, 0],\n",
       "       ...,\n",
       "       [0, 0, 0, ..., 0, 0, 0],\n",
       "       [0, 0, 0, ..., 0, 0, 0],\n",
       "       [0, 0, 0, ..., 0, 0, 0]])"
      ]
     },
     "execution_count": 59,
     "metadata": {},
     "output_type": "execute_result"
    }
   ],
   "source": [
    "X"
   ]
  },
  {
   "cell_type": "markdown",
   "id": "7fe0ca94",
   "metadata": {},
   "source": [
    "## get top 20 features"
   ]
  },
  {
   "cell_type": "code",
   "execution_count": 60,
   "id": "161b40d6",
   "metadata": {},
   "outputs": [
    {
     "data": {
      "text/plain": [
       "['abandon',\n",
       " 'abc',\n",
       " 'abc news',\n",
       " 'abduct',\n",
       " 'abe',\n",
       " 'abedin',\n",
       " 'abl',\n",
       " 'abort',\n",
       " 'abroad',\n",
       " 'absolut',\n",
       " 'abstain',\n",
       " 'absurd',\n",
       " 'abus',\n",
       " 'abus new',\n",
       " 'abus new york',\n",
       " 'academi',\n",
       " 'accept',\n",
       " 'access',\n",
       " 'access pipelin',\n",
       " 'access pipelin protest']"
      ]
     },
     "execution_count": 60,
     "metadata": {},
     "output_type": "execute_result"
    }
   ],
   "source": [
    "cv.get_feature_names()[:20]"
   ]
  },
  {
   "cell_type": "code",
   "execution_count": 61,
   "id": "8031a7e0",
   "metadata": {},
   "outputs": [],
   "source": [
    "y=message['label']"
   ]
  },
  {
   "cell_type": "code",
   "execution_count": 62,
   "id": "9e908e64",
   "metadata": {},
   "outputs": [],
   "source": [
    "from sklearn.model_selection import train_test_split"
   ]
  },
  {
   "cell_type": "code",
   "execution_count": 63,
   "id": "b55385b2",
   "metadata": {},
   "outputs": [],
   "source": [
    "X_train,X_test,y_train,y_test= train_test_split(X,y,test_size=0.25,random_state=42)"
   ]
  },
  {
   "cell_type": "code",
   "execution_count": 64,
   "id": "6f9997a5",
   "metadata": {},
   "outputs": [
    {
     "data": {
      "text/plain": [
       "(4572, 5000)"
      ]
     },
     "execution_count": 64,
     "metadata": {},
     "output_type": "execute_result"
    }
   ],
   "source": [
    "X_test.shape"
   ]
  },
  {
   "cell_type": "markdown",
   "id": "3fc43bf0",
   "metadata": {},
   "source": [
    "## prediction with data"
   ]
  },
  {
   "cell_type": "code",
   "execution_count": 65,
   "id": "a46435b1",
   "metadata": {},
   "outputs": [],
   "source": [
    "from sklearn.naive_bayes import MultinomialNB\n",
    "classifier=MultinomialNB()\n"
   ]
  },
  {
   "cell_type": "code",
   "execution_count": 66,
   "id": "be64389d",
   "metadata": {},
   "outputs": [
    {
     "data": {
      "text/plain": [
       "MultinomialNB()"
      ]
     },
     "execution_count": 66,
     "metadata": {},
     "output_type": "execute_result"
    }
   ],
   "source": [
    "classifier.fit(X_train,y_train)"
   ]
  },
  {
   "cell_type": "code",
   "execution_count": 68,
   "id": "37b4e173",
   "metadata": {},
   "outputs": [],
   "source": [
    "pred=classifier.predict(X_test)"
   ]
  },
  {
   "cell_type": "code",
   "execution_count": 69,
   "id": "eb9b3f76",
   "metadata": {},
   "outputs": [
    {
     "data": {
      "text/plain": [
       "0.8904199475065617"
      ]
     },
     "execution_count": 69,
     "metadata": {},
     "output_type": "execute_result"
    }
   ],
   "source": [
    "from sklearn import metrics\n",
    "metrics.accuracy_score(y_test,pred)"
   ]
  },
  {
   "cell_type": "code",
   "execution_count": 105,
   "id": "0565c145",
   "metadata": {},
   "outputs": [
    {
     "data": {
      "text/plain": [
       "array([[2301,  299],\n",
       "       [ 202, 1770]])"
      ]
     },
     "execution_count": 105,
     "metadata": {},
     "output_type": "execute_result"
    }
   ],
   "source": [
    "cm=metrics.confusion_matrix(y_test,pred)\n",
    "cm"
   ]
  },
  {
   "cell_type": "code",
   "execution_count": 87,
   "id": "9cbbd790",
   "metadata": {},
   "outputs": [],
   "source": [
    "import matplotlib.pyplot as plt\n",
    "import numpy as np"
   ]
  },
  {
   "cell_type": "code",
   "execution_count": 106,
   "id": "26a05beb",
   "metadata": {},
   "outputs": [
    {
     "data": {
      "image/png": "[encoded data removed]",
      "text/plain": [
       "<Figure size 432x288 with 2 Axes>"
      ]
     },
     "metadata": {
      "needs_background": "light"
     },
     "output_type": "display_data"
    }
   ],
   "source": [
    "def plot_cm(cm):\n",
    "    plt.imshow(cm,interpolation='nearest',cmap=plt.cm.Reds)\n",
    "    plt.colorbar()\n",
    "    plt.title('Confusion Matrix')\n",
    "    labels=[\"positive\",\"negative\"]\n",
    "    tick_marks=np.arange(len(labels))\n",
    "    plt.xticks(tick_marks,labels)\n",
    "    plt.yticks(tick_marks,labels)\n",
    "plot_cm(cm)"
   ]
  },
  {
   "cell_type": "markdown",
   "id": "2aa0e54e",
   "metadata": {},
   "source": [
    "## applying other models"
   ]
  },
  {
   "cell_type": "code",
   "execution_count": 94,
   "id": "ebf6ff14",
   "metadata": {},
   "outputs": [],
   "source": [
    "from sklearn.linear_model import PassiveAggressiveClassifier\n"
   ]
  },
  {
   "cell_type": "code",
   "execution_count": 97,
   "id": "7be552f5",
   "metadata": {},
   "outputs": [],
   "source": [
    "linear_clf=PassiveAggressiveClassifier()"
   ]
  },
  {
   "cell_type": "code",
   "execution_count": 98,
   "id": "88073313",
   "metadata": {},
   "outputs": [
    {
     "data": {
      "text/plain": [
       "PassiveAggressiveClassifier()"
      ]
     },
     "execution_count": 98,
     "metadata": {},
     "output_type": "execute_result"
    }
   ],
   "source": [
    "linear_clf.fit(X_train,y_train)"
   ]
  },
  {
   "cell_type": "code",
   "execution_count": 99,
   "id": "1e667a25",
   "metadata": {},
   "outputs": [],
   "source": [
    "predictions=linear_clf.predict(X_test)"
   ]
  },
  {
   "cell_type": "code",
   "execution_count": 100,
   "id": "2f39a060",
   "metadata": {},
   "outputs": [
    {
     "data": {
      "text/plain": [
       "0.910761154855643"
      ]
     },
     "execution_count": 100,
     "metadata": {},
     "output_type": "execute_result"
    }
   ],
   "source": [
    "metrics.accuracy_score(y_test,predictions)"
   ]
  },
  {
   "cell_type": "code",
   "execution_count": 102,
   "id": "4d61bcbe",
   "metadata": {},
   "outputs": [
    {
     "data": {
      "text/plain": [
       "array([[2360,  240],\n",
       "       [ 168, 1804]])"
      ]
     },
     "execution_count": 102,
     "metadata": {},
     "output_type": "execute_result"
    }
   ],
   "source": [
    "cm1=metrics.confusion_matrix(y_test,predictions)\n",
    "cm1"
   ]
  },
  {
   "cell_type": "code",
   "execution_count": 103,
   "id": "e00ab424",
   "metadata": {},
   "outputs": [
    {
     "data": {
      "image/png": "[encoded data removed]",
      "text/plain": [
       "<Figure size 432x288 with 2 Axes>"
      ]
     },
     "metadata": {
      "needs_background": "light"
     },
     "output_type": "display_data"
    }
   ],
   "source": [
    "plot_cm(cm1)"
   ]
  },
  {
   "cell_type": "markdown",
   "id": "f7b65035",
   "metadata": {},
   "source": [
    "## Which are most fake words in real world"
   ]
  },
  {
   "cell_type": "code",
   "execution_count": 112,
   "id": "38f8919d",
   "metadata": {},
   "outputs": [],
   "source": [
    "feature_names=cv.get_feature_names()"
   ]
  },
  {
   "cell_type": "code",
   "execution_count": 111,
   "id": "92bf0e05",
   "metadata": {},
   "outputs": [
    {
     "data": {
      "text/plain": [
       "array([[ -8.86060051,  -8.60928608,  -9.19707274, ..., -10.80651066,\n",
       "         -8.72706912,  -9.4202163 ]])"
      ]
     },
     "execution_count": 111,
     "metadata": {},
     "output_type": "execute_result"
    }
   ],
   "source": [
    "classifier.coef_"
   ]
  },
  {
   "cell_type": "code",
   "execution_count": 117,
   "id": "731b3462",
   "metadata": {},
   "outputs": [
    {
     "data": {
      "text/plain": [
       "[(-3.9648951809317863, 'trump'),\n",
       " (-4.272721819476034, 'hillari'),\n",
       " (-4.368759007672977, 'clinton'),\n",
       " (-4.861090048802803, 'elect'),\n",
       " (-5.219261999009128, 'new'),\n",
       " (-5.230561554263062, 'comment'),\n",
       " (-5.269176390390841, 'video'),\n",
       " (-5.355472203843678, 'war'),\n",
       " (-5.372788653855138, 'hillari clinton'),\n",
       " (-5.394864605554338, 'us'),\n",
       " (-5.412883111057016, 'fbi'),\n",
       " (-5.483500678270969, 'vote'),\n",
       " (-5.483500678270969, 'email'),\n",
       " (-5.559486585248892, 'obama'),\n",
       " (-5.570068694579429, 'world'),\n",
       " (-5.718914322176994, 'donald'),\n",
       " (-5.743915624382411, 'donald trump'),\n",
       " (-5.8229040357010415, 'russia'),\n",
       " (-5.864868234800074, 'presid'),\n",
       " (-5.872036724278686, 'america')]"
      ]
     },
     "execution_count": 117,
     "metadata": {},
     "output_type": "execute_result"
    }
   ],
   "source": [
    "sorted(zip(classifier.coef_[0],feature_names),reverse=True)[:20]"
   ]
  },
  {
   "cell_type": "code",
   "execution_count": null,
   "id": "94fb26ff",
   "metadata": {},
   "outputs": [],
   "source": []
  }
 ],
 "metadata": {
  "kernelspec": {
   "display_name": "Python 3",
   "language": "python",
   "name": "python3"
  },
  "language_info": {
   "codemirror_mode": {
    "name": "ipython",
    "version": 3
   },
   "file_extension": ".py",
   "mimetype": "text/x-python",
   "name": "python",
   "nbconvert_exporter": "python",
   "pygments_lexer": "ipython3",
   "version": "3.7.10"
  }
 },
 "nbformat": 4,
 "nbformat_minor": 5
}
